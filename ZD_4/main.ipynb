{
 "cells": [
  {
   "cell_type": "code",
   "execution_count": 1,
   "metadata": {},
   "outputs": [],
   "source": [
    "import numpy as np\n",
    "import pandas as pd\n",
    "import matplotlib.pyplot as plt\n",
    "\n",
    "from plotnine import *"
   ]
  },
  {
   "cell_type": "markdown",
   "metadata": {},
   "source": [
    "## Wczytanie i preprocessing danych"
   ]
  },
  {
   "cell_type": "code",
   "execution_count": null,
   "metadata": {},
   "outputs": [],
   "source": []
  },
  {
   "cell_type": "markdown",
   "metadata": {},
   "source": [
    "### Dane Trywialne"
   ]
  },
  {
   "cell_type": "code",
   "execution_count": 2,
   "metadata": {},
   "outputs": [],
   "source": [
    "dane = pd.DataFrame({'x': [2,1,0,-1,-2,-1,0,1], 'y': [0,1,2,1,0,-1,-2,-1], 'z': [0,1,2,3,4,5,6,7]})"
   ]
  },
  {
   "cell_type": "code",
   "execution_count": 4,
   "metadata": {},
   "outputs": [
    {
     "ename": "PlotnineError",
     "evalue": "\"Could not evaluate the 'color' mapping: 'factor(c)' (original error: name 'c' is not defined)\"",
     "output_type": "error",
     "traceback": [
      "\u001b[0;31m---------------------------------------------------------------------------\u001b[0m",
      "\u001b[0;31mNameError\u001b[0m                                 Traceback (most recent call last)",
      "File \u001b[0;32m~/Code/StudySpace/ML_Data_Analysis/env/lib/python3.10/site-packages/plotnine/mapping/evaluation.py:219\u001b[0m, in \u001b[0;36mevaluate\u001b[0;34m(aesthetics, data, env)\u001b[0m\n\u001b[1;32m    218\u001b[0m \u001b[39mtry\u001b[39;00m:\n\u001b[0;32m--> 219\u001b[0m     new_val \u001b[39m=\u001b[39m env\u001b[39m.\u001b[39;49meval(col, inner_namespace\u001b[39m=\u001b[39;49mdata)\n\u001b[1;32m    220\u001b[0m \u001b[39mexcept\u001b[39;00m \u001b[39mException\u001b[39;00m \u001b[39mas\u001b[39;00m e:\n",
      "File \u001b[0;32m~/Code/StudySpace/ML_Data_Analysis/env/lib/python3.10/site-packages/patsy/eval.py:169\u001b[0m, in \u001b[0;36mEvalEnvironment.eval\u001b[0;34m(self, expr, source_name, inner_namespace)\u001b[0m\n\u001b[1;32m    168\u001b[0m code \u001b[39m=\u001b[39m \u001b[39mcompile\u001b[39m(expr, source_name, \u001b[39m\"\u001b[39m\u001b[39meval\u001b[39m\u001b[39m\"\u001b[39m, \u001b[39mself\u001b[39m\u001b[39m.\u001b[39mflags, \u001b[39mFalse\u001b[39;00m)\n\u001b[0;32m--> 169\u001b[0m \u001b[39mreturn\u001b[39;00m \u001b[39meval\u001b[39;49m(code, {}, VarLookupDict([inner_namespace]\n\u001b[1;32m    170\u001b[0m                                     \u001b[39m+\u001b[39;49m \u001b[39mself\u001b[39;49m\u001b[39m.\u001b[39;49m_namespaces))\n",
      "File \u001b[0;32m<string>:1\u001b[0m\n",
      "\u001b[0;31mNameError\u001b[0m: name 'c' is not defined",
      "\nDuring handling of the above exception, another exception occurred:\n",
      "\u001b[0;31mPlotnineError\u001b[0m                             Traceback (most recent call last)",
      "File \u001b[0;32m~/Code/StudySpace/ML_Data_Analysis/env/lib/python3.10/site-packages/IPython/core/formatters.py:707\u001b[0m, in \u001b[0;36mPlainTextFormatter.__call__\u001b[0;34m(self, obj)\u001b[0m\n\u001b[1;32m    700\u001b[0m stream \u001b[39m=\u001b[39m StringIO()\n\u001b[1;32m    701\u001b[0m printer \u001b[39m=\u001b[39m pretty\u001b[39m.\u001b[39mRepresentationPrinter(stream, \u001b[39mself\u001b[39m\u001b[39m.\u001b[39mverbose,\n\u001b[1;32m    702\u001b[0m     \u001b[39mself\u001b[39m\u001b[39m.\u001b[39mmax_width, \u001b[39mself\u001b[39m\u001b[39m.\u001b[39mnewline,\n\u001b[1;32m    703\u001b[0m     max_seq_length\u001b[39m=\u001b[39m\u001b[39mself\u001b[39m\u001b[39m.\u001b[39mmax_seq_length,\n\u001b[1;32m    704\u001b[0m     singleton_pprinters\u001b[39m=\u001b[39m\u001b[39mself\u001b[39m\u001b[39m.\u001b[39msingleton_printers,\n\u001b[1;32m    705\u001b[0m     type_pprinters\u001b[39m=\u001b[39m\u001b[39mself\u001b[39m\u001b[39m.\u001b[39mtype_printers,\n\u001b[1;32m    706\u001b[0m     deferred_pprinters\u001b[39m=\u001b[39m\u001b[39mself\u001b[39m\u001b[39m.\u001b[39mdeferred_printers)\n\u001b[0;32m--> 707\u001b[0m printer\u001b[39m.\u001b[39;49mpretty(obj)\n\u001b[1;32m    708\u001b[0m printer\u001b[39m.\u001b[39mflush()\n\u001b[1;32m    709\u001b[0m \u001b[39mreturn\u001b[39;00m stream\u001b[39m.\u001b[39mgetvalue()\n",
      "File \u001b[0;32m~/Code/StudySpace/ML_Data_Analysis/env/lib/python3.10/site-packages/IPython/lib/pretty.py:410\u001b[0m, in \u001b[0;36mRepresentationPrinter.pretty\u001b[0;34m(self, obj)\u001b[0m\n\u001b[1;32m    407\u001b[0m                         \u001b[39mreturn\u001b[39;00m meth(obj, \u001b[39mself\u001b[39m, cycle)\n\u001b[1;32m    408\u001b[0m                 \u001b[39mif\u001b[39;00m \u001b[39mcls\u001b[39m \u001b[39mis\u001b[39;00m \u001b[39mnot\u001b[39;00m \u001b[39mobject\u001b[39m \\\n\u001b[1;32m    409\u001b[0m                         \u001b[39mand\u001b[39;00m callable(\u001b[39mcls\u001b[39m\u001b[39m.\u001b[39m\u001b[39m__dict__\u001b[39m\u001b[39m.\u001b[39mget(\u001b[39m'\u001b[39m\u001b[39m__repr__\u001b[39m\u001b[39m'\u001b[39m)):\n\u001b[0;32m--> 410\u001b[0m                     \u001b[39mreturn\u001b[39;00m _repr_pprint(obj, \u001b[39mself\u001b[39;49m, cycle)\n\u001b[1;32m    412\u001b[0m     \u001b[39mreturn\u001b[39;00m _default_pprint(obj, \u001b[39mself\u001b[39m, cycle)\n\u001b[1;32m    413\u001b[0m \u001b[39mfinally\u001b[39;00m:\n",
      "File \u001b[0;32m~/Code/StudySpace/ML_Data_Analysis/env/lib/python3.10/site-packages/IPython/lib/pretty.py:778\u001b[0m, in \u001b[0;36m_repr_pprint\u001b[0;34m(obj, p, cycle)\u001b[0m\n\u001b[1;32m    776\u001b[0m \u001b[39m\"\"\"A pprint that just redirects to the normal repr function.\"\"\"\u001b[39;00m\n\u001b[1;32m    777\u001b[0m \u001b[39m# Find newlines and replace them with p.break_()\u001b[39;00m\n\u001b[0;32m--> 778\u001b[0m output \u001b[39m=\u001b[39m \u001b[39mrepr\u001b[39;49m(obj)\n\u001b[1;32m    779\u001b[0m lines \u001b[39m=\u001b[39m output\u001b[39m.\u001b[39msplitlines()\n\u001b[1;32m    780\u001b[0m \u001b[39mwith\u001b[39;00m p\u001b[39m.\u001b[39mgroup():\n",
      "File \u001b[0;32m~/Code/StudySpace/ML_Data_Analysis/env/lib/python3.10/site-packages/plotnine/ggplot.py:95\u001b[0m, in \u001b[0;36mggplot.__repr__\u001b[0;34m(self)\u001b[0m\n\u001b[1;32m     91\u001b[0m \u001b[39mdef\u001b[39;00m \u001b[39m__repr__\u001b[39m(\u001b[39mself\u001b[39m):\n\u001b[1;32m     92\u001b[0m     \u001b[39m\"\"\"\u001b[39;00m\n\u001b[1;32m     93\u001b[0m \u001b[39m    Print/show the plot\u001b[39;00m\n\u001b[1;32m     94\u001b[0m \u001b[39m    \"\"\"\u001b[39;00m\n\u001b[0;32m---> 95\u001b[0m     \u001b[39mself\u001b[39;49m\u001b[39m.\u001b[39;49m\u001b[39m__str__\u001b[39;49m()\n\u001b[1;32m     96\u001b[0m     \u001b[39mreturn\u001b[39;00m \u001b[39m'\u001b[39m\u001b[39m<ggplot: (\u001b[39m\u001b[39m%d\u001b[39;00m\u001b[39m)>\u001b[39m\u001b[39m'\u001b[39m \u001b[39m%\u001b[39m \u001b[39mself\u001b[39m\u001b[39m.\u001b[39m\u001b[39m__hash__\u001b[39m()\n",
      "File \u001b[0;32m~/Code/StudySpace/ML_Data_Analysis/env/lib/python3.10/site-packages/plotnine/ggplot.py:86\u001b[0m, in \u001b[0;36mggplot.__str__\u001b[0;34m(self)\u001b[0m\n\u001b[1;32m     82\u001b[0m \u001b[39mdef\u001b[39;00m \u001b[39m__str__\u001b[39m(\u001b[39mself\u001b[39m):\n\u001b[1;32m     83\u001b[0m     \u001b[39m\"\"\"\u001b[39;00m\n\u001b[1;32m     84\u001b[0m \u001b[39m    Print/show the plot\u001b[39;00m\n\u001b[1;32m     85\u001b[0m \u001b[39m    \"\"\"\u001b[39;00m\n\u001b[0;32m---> 86\u001b[0m     \u001b[39mself\u001b[39;49m\u001b[39m.\u001b[39;49mdraw(show\u001b[39m=\u001b[39;49m\u001b[39mTrue\u001b[39;49;00m)\n\u001b[1;32m     88\u001b[0m     \u001b[39m# Return and empty string so that print(p) is \"pretty\"\u001b[39;00m\n\u001b[1;32m     89\u001b[0m     \u001b[39mreturn\u001b[39;00m \u001b[39m'\u001b[39m\u001b[39m'\u001b[39m\n",
      "File \u001b[0;32m~/Code/StudySpace/ML_Data_Analysis/env/lib/python3.10/site-packages/plotnine/ggplot.py:203\u001b[0m, in \u001b[0;36mggplot.draw\u001b[0;34m(self, return_ggplot, show)\u001b[0m\n\u001b[1;32m    201\u001b[0m \u001b[39mself\u001b[39m \u001b[39m=\u001b[39m deepcopy(\u001b[39mself\u001b[39m)\n\u001b[1;32m    202\u001b[0m \u001b[39mwith\u001b[39;00m plot_context(\u001b[39mself\u001b[39m, show\u001b[39m=\u001b[39mshow):\n\u001b[0;32m--> 203\u001b[0m     \u001b[39mself\u001b[39;49m\u001b[39m.\u001b[39;49m_build()\n\u001b[1;32m    205\u001b[0m     \u001b[39m# setup\u001b[39;00m\n\u001b[1;32m    206\u001b[0m     figure, axs \u001b[39m=\u001b[39m \u001b[39mself\u001b[39m\u001b[39m.\u001b[39m_create_figure()\n",
      "File \u001b[0;32m~/Code/StudySpace/ML_Data_Analysis/env/lib/python3.10/site-packages/plotnine/ggplot.py:289\u001b[0m, in \u001b[0;36mggplot._build\u001b[0;34m(self)\u001b[0m\n\u001b[1;32m    285\u001b[0m layout\u001b[39m.\u001b[39msetup(layers, \u001b[39mself\u001b[39m)\n\u001b[1;32m    287\u001b[0m \u001b[39m# Compute aesthetics to produce data with generalised\u001b[39;00m\n\u001b[1;32m    288\u001b[0m \u001b[39m# variable names\u001b[39;00m\n\u001b[0;32m--> 289\u001b[0m layers\u001b[39m.\u001b[39;49mcompute_aesthetics(\u001b[39mself\u001b[39;49m)\n\u001b[1;32m    291\u001b[0m \u001b[39m# Transform data using all scales\u001b[39;00m\n\u001b[1;32m    292\u001b[0m layers\u001b[39m.\u001b[39mtransform(scales)\n",
      "File \u001b[0;32m~/Code/StudySpace/ML_Data_Analysis/env/lib/python3.10/site-packages/plotnine/layer.py:67\u001b[0m, in \u001b[0;36mLayers.compute_aesthetics\u001b[0;34m(self, plot)\u001b[0m\n\u001b[1;32m     65\u001b[0m \u001b[39mdef\u001b[39;00m \u001b[39mcompute_aesthetics\u001b[39m(\u001b[39mself\u001b[39m, plot):\n\u001b[1;32m     66\u001b[0m     \u001b[39mfor\u001b[39;00m l \u001b[39min\u001b[39;00m \u001b[39mself\u001b[39m:\n\u001b[0;32m---> 67\u001b[0m         l\u001b[39m.\u001b[39;49mcompute_aesthetics(plot)\n",
      "File \u001b[0;32m~/Code/StudySpace/ML_Data_Analysis/env/lib/python3.10/site-packages/plotnine/layer.py:309\u001b[0m, in \u001b[0;36mlayer.compute_aesthetics\u001b[0;34m(self, plot)\u001b[0m\n\u001b[1;32m    301\u001b[0m \u001b[39mdef\u001b[39;00m \u001b[39mcompute_aesthetics\u001b[39m(\u001b[39mself\u001b[39m, plot):\n\u001b[1;32m    302\u001b[0m     \u001b[39m\"\"\"\u001b[39;00m\n\u001b[1;32m    303\u001b[0m \u001b[39m    Return a dataframe where the columns match the\u001b[39;00m\n\u001b[1;32m    304\u001b[0m \u001b[39m    aesthetic mappings.\u001b[39;00m\n\u001b[0;32m   (...)\u001b[0m\n\u001b[1;32m    307\u001b[0m \u001b[39m    expression evaluation are  made in here\u001b[39;00m\n\u001b[1;32m    308\u001b[0m \u001b[39m    \"\"\"\u001b[39;00m\n\u001b[0;32m--> 309\u001b[0m     evaled \u001b[39m=\u001b[39m evaluate(\u001b[39mself\u001b[39;49m\u001b[39m.\u001b[39;49mmapping\u001b[39m.\u001b[39;49m_starting, \u001b[39mself\u001b[39;49m\u001b[39m.\u001b[39;49mdata, plot\u001b[39m.\u001b[39;49menvironment)\n\u001b[1;32m    310\u001b[0m     evaled_aes \u001b[39m=\u001b[39m aes(\u001b[39m*\u001b[39m\u001b[39m*\u001b[39m{col: col \u001b[39mfor\u001b[39;00m col \u001b[39min\u001b[39;00m evaled})\n\u001b[1;32m    311\u001b[0m     plot\u001b[39m.\u001b[39mscales\u001b[39m.\u001b[39madd_defaults(evaled, evaled_aes)\n",
      "File \u001b[0;32m~/Code/StudySpace/ML_Data_Analysis/env/lib/python3.10/site-packages/plotnine/mapping/evaluation.py:221\u001b[0m, in \u001b[0;36mevaluate\u001b[0;34m(aesthetics, data, env)\u001b[0m\n\u001b[1;32m    219\u001b[0m     new_val \u001b[39m=\u001b[39m env\u001b[39m.\u001b[39meval(col, inner_namespace\u001b[39m=\u001b[39mdata)\n\u001b[1;32m    220\u001b[0m \u001b[39mexcept\u001b[39;00m \u001b[39mException\u001b[39;00m \u001b[39mas\u001b[39;00m e:\n\u001b[0;32m--> 221\u001b[0m     \u001b[39mraise\u001b[39;00m PlotnineError(\n\u001b[1;32m    222\u001b[0m         _TPL_EVAL_FAIL\u001b[39m.\u001b[39mformat(ae, col, \u001b[39mstr\u001b[39m(e)))\n\u001b[1;32m    224\u001b[0m \u001b[39mtry\u001b[39;00m:\n\u001b[1;32m    225\u001b[0m     evaled[ae] \u001b[39m=\u001b[39m new_val\n",
      "\u001b[0;31mPlotnineError\u001b[0m: \"Could not evaluate the 'color' mapping: 'factor(c)' (original error: name 'c' is not defined)\""
     ]
    }
   ],
   "source": [
    "(ggplot(dane, aes('x','y', color='factor(c)')) +\n",
    "geom_point(size=3, show_legend=False) +\n",
    "geom_hline(yintercept=0) + \n",
    "geom_vline(xintercept=0) +\n",
    "scale_color_brewer(type=\"qual\", palette=\"Set1\")\n",
    ")"
   ]
  },
  {
   "cell_type": "code",
   "execution_count": 5,
   "metadata": {},
   "outputs": [],
   "source": [
    "A = np.array([[[2,0], [0,1]]])"
   ]
  },
  {
   "cell_type": "code",
   "execution_count": 6,
   "metadata": {},
   "outputs": [
    {
     "ename": "ValueError",
     "evalue": "Dot product shape mismatch, (8, 2) vs (1, 2, 2)",
     "output_type": "error",
     "traceback": [
      "\u001b[0;31m---------------------------------------------------------------------------\u001b[0m",
      "\u001b[0;31mValueError\u001b[0m                                Traceback (most recent call last)",
      "Cell \u001b[0;32mIn [6], line 1\u001b[0m\n\u001b[0;32m----> 1\u001b[0m dane[[\u001b[39m'\u001b[39m\u001b[39mx_A\u001b[39m\u001b[39m'\u001b[39m, \u001b[39m'\u001b[39m\u001b[39my_A\u001b[39m\u001b[39m'\u001b[39m]] \u001b[39m=\u001b[39m np\u001b[39m.\u001b[39;49mmatmul(dane\u001b[39m.\u001b[39;49miloc[:,:\u001b[39m2\u001b[39;49m], A)\n",
      "File \u001b[0;32m~/Code/StudySpace/ML_Data_Analysis/env/lib/python3.10/site-packages/pandas/core/generic.py:2112\u001b[0m, in \u001b[0;36mNDFrame.__array_ufunc__\u001b[0;34m(self, ufunc, method, *inputs, **kwargs)\u001b[0m\n\u001b[1;32m   2108\u001b[0m \u001b[39m@final\u001b[39m\n\u001b[1;32m   2109\u001b[0m \u001b[39mdef\u001b[39;00m \u001b[39m__array_ufunc__\u001b[39m(\n\u001b[1;32m   2110\u001b[0m     \u001b[39mself\u001b[39m, ufunc: np\u001b[39m.\u001b[39mufunc, method: \u001b[39mstr\u001b[39m, \u001b[39m*\u001b[39minputs: Any, \u001b[39m*\u001b[39m\u001b[39m*\u001b[39mkwargs: Any\n\u001b[1;32m   2111\u001b[0m ):\n\u001b[0;32m-> 2112\u001b[0m     \u001b[39mreturn\u001b[39;00m arraylike\u001b[39m.\u001b[39;49marray_ufunc(\u001b[39mself\u001b[39;49m, ufunc, method, \u001b[39m*\u001b[39;49minputs, \u001b[39m*\u001b[39;49m\u001b[39m*\u001b[39;49mkwargs)\n",
      "File \u001b[0;32m~/Code/StudySpace/ML_Data_Analysis/env/lib/python3.10/site-packages/pandas/core/arraylike.py:266\u001b[0m, in \u001b[0;36marray_ufunc\u001b[0;34m(self, ufunc, method, *inputs, **kwargs)\u001b[0m\n\u001b[1;32m    263\u001b[0m     \u001b[39mreturn\u001b[39;00m result\n\u001b[1;32m    265\u001b[0m \u001b[39m# for binary ops, use our custom dunder methods\u001b[39;00m\n\u001b[0;32m--> 266\u001b[0m result \u001b[39m=\u001b[39m maybe_dispatch_ufunc_to_dunder_op(\u001b[39mself\u001b[39;49m, ufunc, method, \u001b[39m*\u001b[39;49minputs, \u001b[39m*\u001b[39;49m\u001b[39m*\u001b[39;49mkwargs)\n\u001b[1;32m    267\u001b[0m \u001b[39mif\u001b[39;00m result \u001b[39mis\u001b[39;00m \u001b[39mnot\u001b[39;00m \u001b[39mNotImplemented\u001b[39m:\n\u001b[1;32m    268\u001b[0m     \u001b[39mreturn\u001b[39;00m result\n",
      "File \u001b[0;32m~/Code/StudySpace/ML_Data_Analysis/env/lib/python3.10/site-packages/pandas/_libs/ops_dispatch.pyx:107\u001b[0m, in \u001b[0;36mpandas._libs.ops_dispatch.maybe_dispatch_ufunc_to_dunder_op\u001b[0;34m()\u001b[0m\n",
      "File \u001b[0;32m~/Code/StudySpace/ML_Data_Analysis/env/lib/python3.10/site-packages/pandas/core/frame.py:1633\u001b[0m, in \u001b[0;36mDataFrame.__matmul__\u001b[0;34m(self, other)\u001b[0m\n\u001b[1;32m   1629\u001b[0m \u001b[39mdef\u001b[39;00m \u001b[39m__matmul__\u001b[39m(\u001b[39mself\u001b[39m, other: AnyArrayLike \u001b[39m|\u001b[39m DataFrame) \u001b[39m-\u001b[39m\u001b[39m>\u001b[39m DataFrame \u001b[39m|\u001b[39m Series:\n\u001b[1;32m   1630\u001b[0m     \u001b[39m\"\"\"\u001b[39;00m\n\u001b[1;32m   1631\u001b[0m \u001b[39m    Matrix multiplication using binary `@` operator in Python>=3.5.\u001b[39;00m\n\u001b[1;32m   1632\u001b[0m \u001b[39m    \"\"\"\u001b[39;00m\n\u001b[0;32m-> 1633\u001b[0m     \u001b[39mreturn\u001b[39;00m \u001b[39mself\u001b[39;49m\u001b[39m.\u001b[39;49mdot(other)\n",
      "File \u001b[0;32m~/Code/StudySpace/ML_Data_Analysis/env/lib/python3.10/site-packages/pandas/core/frame.py:1602\u001b[0m, in \u001b[0;36mDataFrame.dot\u001b[0;34m(self, other)\u001b[0m\n\u001b[1;32m   1600\u001b[0m     rvals \u001b[39m=\u001b[39m np\u001b[39m.\u001b[39masarray(other)\n\u001b[1;32m   1601\u001b[0m     \u001b[39mif\u001b[39;00m lvals\u001b[39m.\u001b[39mshape[\u001b[39m1\u001b[39m] \u001b[39m!=\u001b[39m rvals\u001b[39m.\u001b[39mshape[\u001b[39m0\u001b[39m]:\n\u001b[0;32m-> 1602\u001b[0m         \u001b[39mraise\u001b[39;00m \u001b[39mValueError\u001b[39;00m(\n\u001b[1;32m   1603\u001b[0m             \u001b[39mf\u001b[39m\u001b[39m\"\u001b[39m\u001b[39mDot product shape mismatch, \u001b[39m\u001b[39m{\u001b[39;00mlvals\u001b[39m.\u001b[39mshape\u001b[39m}\u001b[39;00m\u001b[39m vs \u001b[39m\u001b[39m{\u001b[39;00mrvals\u001b[39m.\u001b[39mshape\u001b[39m}\u001b[39;00m\u001b[39m\"\u001b[39m\n\u001b[1;32m   1604\u001b[0m         )\n\u001b[1;32m   1606\u001b[0m \u001b[39mif\u001b[39;00m \u001b[39misinstance\u001b[39m(other, DataFrame):\n\u001b[1;32m   1607\u001b[0m     \u001b[39mreturn\u001b[39;00m \u001b[39mself\u001b[39m\u001b[39m.\u001b[39m_constructor(\n\u001b[1;32m   1608\u001b[0m         np\u001b[39m.\u001b[39mdot(lvals, rvals), index\u001b[39m=\u001b[39mleft\u001b[39m.\u001b[39mindex, columns\u001b[39m=\u001b[39mother\u001b[39m.\u001b[39mcolumns\n\u001b[1;32m   1609\u001b[0m     )\n",
      "\u001b[0;31mValueError\u001b[0m: Dot product shape mismatch, (8, 2) vs (1, 2, 2)"
     ]
    }
   ],
   "source": [
    "dane[['x_A', 'y_A']] = np.matmul(dane.iloc[:,:2], A)"
   ]
  }
 ],
 "metadata": {
  "kernelspec": {
   "display_name": "Python 3.10.6 ('env')",
   "language": "python",
   "name": "python3"
  },
  "language_info": {
   "codemirror_mode": {
    "name": "ipython",
    "version": 3
   },
   "file_extension": ".py",
   "mimetype": "text/x-python",
   "name": "python",
   "nbconvert_exporter": "python",
   "pygments_lexer": "ipython3",
   "version": "3.10.8"
  },
  "orig_nbformat": 4,
  "vscode": {
   "interpreter": {
    "hash": "f8d70b9670cfdef10de6eab660fe3933414a867bc87d095aef4f336ab0beec04"
   }
  }
 },
 "nbformat": 4,
 "nbformat_minor": 2
}
